{
  "nbformat": 4,
  "nbformat_minor": 0,
  "metadata": {
    "colab": {
      "name": "Untitled2.ipynb",
      "provenance": []
    },
    "kernelspec": {
      "name": "python3",
      "display_name": "Python 3"
    },
    "language_info": {
      "name": "python"
    }
  },
  "cells": [
    {
      "cell_type": "code",
      "metadata": {
        "id": "FJT3nwvX9q6j"
      },
      "source": [
        "from bs4 import BeautifulSoup\n",
        "from urllib.request import urlopen\n",
        "import pandas as pd\n",
        "import numpy as np\n",
        "import requests\n",
        "import pprint\n",
        "import matplotlib.pyplot as plt\n",
        "import tensorflow as tf\n",
        "import requests\n",
        "import pickle"
      ],
      "execution_count": null,
      "outputs": []
    },
    {
      "cell_type": "code",
      "metadata": {
        "colab": {
          "base_uri": "https://localhost:8080/"
        },
        "id": "aX_3ab3K-P6x",
        "outputId": "e2fe9f09-2c50-4648-dc11-743ce555fd28"
      },
      "source": [
        "links = []\n",
        "page = 1\n",
        "while True :\n",
        "            r = requests.get(f'https://genius.com/api/artists/29060/songs?page={page}&sort=popularity')\n",
        "            if r.status_code == 200:\n",
        "\n",
        "                response = r.json().get('response')\n",
        "                next_page = response.get('next_page')\n",
        "                songs = response.get('songs')\n",
        "\n",
        "                for song in songs:\n",
        "                    links.append(song.get('url'))\n",
        "\n",
        "\n",
        "                page = page+1\n",
        "\n",
        "                if not next_page :\n",
        "                    print(\"plus de nouvelle page\")\n",
        "                    break\n",
        "\n"
      ],
      "execution_count": null,
      "outputs": [
        {
          "output_type": "stream",
          "text": [
            "plus de nouvelle page\n"
          ],
          "name": "stdout"
        }
      ]
    },
    {
      "cell_type": "code",
      "metadata": {
        "id": "KCZGQN6L-g3T"
      },
      "source": [
        ""
      ],
      "execution_count": null,
      "outputs": []
    },
    {
      "cell_type": "code",
      "metadata": {
        "colab": {
          "base_uri": "https://localhost:8080/"
        },
        "id": "943H8SPNO7tv",
        "outputId": "af99dde1-d734-471c-cad6-51ba7591223c"
      },
      "source": [
        "links"
      ],
      "execution_count": null,
      "outputs": [
        {
          "output_type": "execute_result",
          "data": {
            "text/plain": [
              "['https://genius.com/Saez-putains-vous-maurez-plus-lyrics',\n",
              " 'https://genius.com/Saez-lulu-lyrics',\n",
              " 'https://genius.com/Saez-jeune-et-con-lyrics',\n",
              " 'https://genius.com/Saez-ptite-pute-lyrics',\n",
              " 'https://genius.com/Saez-marguerite-lyrics',\n",
              " 'https://genius.com/Saez-jaccuse-lyrics',\n",
              " 'https://genius.com/Saez-mon-europeenne-lyrics',\n",
              " 'https://genius.com/Saez-les-meurtrieres-lyrics',\n",
              " 'https://genius.com/Saez-notre-dame-melancolie-lyrics',\n",
              " 'https://genius.com/Saez-bonnie-lyrics',\n",
              " 'https://genius.com/Saez-pilule-lyrics',\n",
              " 'https://genius.com/Saez-les-enfants-paradis-lyrics',\n",
              " 'https://genius.com/Saez-rue-dla-soif-lyrics',\n",
              " 'https://genius.com/Saez-matins-de-pluie-lyrics',\n",
              " 'https://genius.com/Saez-guantanamo-lyrics',\n",
              " 'https://genius.com/Saez-la-belle-au-bois-lyrics',\n",
              " 'https://genius.com/Saez-jveux-quon-baise-sur-ma-tombe-lyrics',\n",
              " 'https://genius.com/Saez-au-cimetiere-des-amours-lyrics',\n",
              " 'https://genius.com/Saez-jeunesse-leve-toi-lyrics',\n",
              " 'https://genius.com/Saez-le-manifeste-culture-contre-culture-lyrics',\n",
              " 'https://genius.com/Saez-cigarette-lyrics',\n",
              " 'https://genius.com/Saez-putain-ma-vie-lyrics',\n",
              " 'https://genius.com/Saez-si-lyrics',\n",
              " 'https://genius.com/Saez-a-nos-amours-lyrics',\n",
              " 'https://genius.com/Saez-je-suis-lyrics',\n",
              " 'https://genius.com/Saez-marie-lyrics',\n",
              " 'https://genius.com/Saez-tous-les-gamins-du-monde-lyrics',\n",
              " 'https://genius.com/Saez-rois-demain-lyrics',\n",
              " 'https://genius.com/Saez-peuple-manifestant-lyrics',\n",
              " 'https://genius.com/Saez-pleure-pas-bebe-lyrics',\n",
              " 'https://genius.com/Saez-les-amours-mortes-lyrics',\n",
              " 'https://genius.com/Saez-ma-putain-du-show-biz-lyrics',\n",
              " 'https://genius.com/Saez-matins-de-neige-lyrics',\n",
              " 'https://genius.com/Saez-mon-terroriste-lyrics',\n",
              " 'https://genius.com/Saez-jours-etranges-lyrics',\n",
              " 'https://genius.com/Saez-fils-de-france-lyrics',\n",
              " 'https://genius.com/Saez-le-bal-des-lycees-lyrics',\n",
              " 'https://genius.com/Saez-jveux-men-aller-lyrics',\n",
              " 'https://genius.com/Saez-sils-ont-eu-raison-de-nous-lyrics',\n",
              " 'https://genius.com/Saez-a-tes-cotes-lyrics',\n",
              " 'https://genius.com/Saez-aux-encres-des-amours-lyrics',\n",
              " 'https://genius.com/Saez-le-gaz-lyrics',\n",
              " 'https://genius.com/Saez-en-bords-de-seine-lyrics',\n",
              " 'https://genius.com/Saez-les-anarchitectures-lyrics',\n",
              " 'https://genius.com/Saez-les-cours-des-lycees-lyrics',\n",
              " 'https://genius.com/Saez-regarder-les-filles-pleurer-lyrics',\n",
              " 'https://genius.com/Saez-humanite-lyrics',\n",
              " 'https://genius.com/Saez-les-fils-dartaud-lyrics',\n",
              " 'https://genius.com/Saez-loiseau-liberte-lyrics',\n",
              " 'https://genius.com/Saez-des-ptits-sous-lyrics',\n",
              " 'https://genius.com/Saez-pierrot-lyrics',\n",
              " 'https://genius.com/Saez-je-suis-perdu-lyrics',\n",
              " 'https://genius.com/Saez-lhumaniste-lyrics',\n",
              " 'https://genius.com/Saez-que-tout-est-noir-lyrics',\n",
              " 'https://genius.com/Saez-lula-lyrics',\n",
              " 'https://genius.com/Saez-toi-tu-dis-que-tes-bien-sans-moi-lyrics',\n",
              " 'https://genius.com/Saez-miami-lyrics',\n",
              " 'https://genius.com/Saez-sexe-lyrics',\n",
              " 'https://genius.com/Saez-fin-des-mondes-lyrics',\n",
              " 'https://genius.com/Saez-on-meurt-de-toi-lyrics',\n",
              " 'https://genius.com/Saez-lattentat-lyrics',\n",
              " 'https://genius.com/Saez-ma-religieuse-lyrics',\n",
              " 'https://genius.com/Saez-sauver-cette-etoile-lyrics',\n",
              " 'https://genius.com/Saez-burqa-lyrics',\n",
              " 'https://genius.com/Saez-a-ton-nom-lyrics',\n",
              " 'https://genius.com/Saez-les-magnifiques-lyrics',\n",
              " 'https://genius.com/Saez-messine-lyrics',\n",
              " 'https://genius.com/Saez-chateau-de-brume-lyrics',\n",
              " 'https://genius.com/Saez-on-a-tous-une-lula-lyrics',\n",
              " 'https://genius.com/Saez-les-enfants-lune-lyrics',\n",
              " 'https://genius.com/Saez-tango-lyrics',\n",
              " 'https://genius.com/Saez-les-guerres-des-mondes-lyrics',\n",
              " 'https://genius.com/Saez-ma-gueule-lyrics',\n",
              " 'https://genius.com/Saez-betty-lyrics',\n",
              " 'https://genius.com/Saez-sen-aller-lyrics',\n",
              " 'https://genius.com/Saez-les-echoues-lyrics',\n",
              " 'https://genius.com/Saez-autour-de-moi-les-fous-lyrics',\n",
              " 'https://genius.com/Saez-les-printemps-lyrics',\n",
              " 'https://genius.com/Saez-use-lyrics',\n",
              " 'https://genius.com/Saez-faut-soublier-lyrics',\n",
              " 'https://genius.com/Saez-amour-criminel-lyrics',\n",
              " 'https://genius.com/Saez-dis-moi-qui-sont-ces-gens-lyrics',\n",
              " 'https://genius.com/Saez-ceux-qui-sont-en-laisse-lyrics',\n",
              " 'https://genius.com/Saez-tu-y-crois-lyrics',\n",
              " 'https://genius.com/Saez-le-cavalier-sans-tete-lyrics',\n",
              " 'https://genius.com/Saez-en-sangre-lyrics',\n",
              " 'https://genius.com/Saez-rochechouart-lyrics',\n",
              " 'https://genius.com/Saez-ma-petite-couturiere-lyrics',\n",
              " 'https://genius.com/Saez-quand-on-perd-son-amour-lyrics',\n",
              " 'https://genius.com/Saez-ptit-bout-dparadis-annotated',\n",
              " 'https://genius.com/Saez-planche-a-roulettes-lyrics',\n",
              " 'https://genius.com/Saez-mon-pays-je-tecris-lyrics',\n",
              " 'https://genius.com/Saez-sur-le-quai-lyrics',\n",
              " 'https://genius.com/Saez-elle-aimait-se-faire-liker-lyrics',\n",
              " 'https://genius.com/Saez-montee-la-haut-lyrics',\n",
              " 'https://genius.com/Saez-les-bars-du-port-lyrics',\n",
              " 'https://genius.com/Saez-marianne-lyrics',\n",
              " 'https://genius.com/Saez-saint-petersbourg-lyrics',\n",
              " 'https://genius.com/Saez-la-mort-lyrics',\n",
              " 'https://genius.com/Saez-chatillon-sur-seine-lyrics',\n",
              " 'https://genius.com/Saez-on-a-pas-la-thune-lyrics',\n",
              " 'https://genius.com/Saez-jveux-du-nucleaire-lyrics',\n",
              " 'https://genius.com/Saez-webcams-de-nos-amours-lyrics',\n",
              " 'https://genius.com/Saez-kasia-lyrics',\n",
              " 'https://genius.com/Saez-premier-mai-lyrics',\n",
              " 'https://genius.com/Saez-jenvoie-lyrics',\n",
              " 'https://genius.com/Saez-aneanti-lyrics',\n",
              " 'https://genius.com/Saez-la-maria-lyrics',\n",
              " 'https://genius.com/Saez-crepuscule-lyrics',\n",
              " 'https://genius.com/Saez-celeste-lyrics',\n",
              " 'https://genius.com/Saez-into-the-wild-lyrics',\n",
              " 'https://genius.com/Saez-alice-lyrics',\n",
              " 'https://genius.com/Saez-bouteille-a-la-mer-lyrics',\n",
              " 'https://genius.com/Saez-en-travers-les-neons-lyrics',\n",
              " 'https://genius.com/Saez-marie-ou-marilyn-lyrics',\n",
              " 'https://genius.com/Saez-tricycle-jaune-lyrics',\n",
              " 'https://genius.com/Saez-ma-gueule-de-terroriste-lyrics',\n",
              " 'https://genius.com/Saez-anatoline-lyrics',\n",
              " 'https://genius.com/Saez-je-suis-un-etranger-lyrics',\n",
              " 'https://genius.com/Saez-varsovie-lyrics',\n",
              " 'https://genius.com/Saez-chanson-pour-mon-enterrement-lyrics',\n",
              " 'https://genius.com/Saez-debbie-lyrics',\n",
              " 'https://genius.com/Saez-tristesse-annotated',\n",
              " 'https://genius.com/Saez-theme-melancolie-annotated',\n",
              " 'https://genius.com/Saez-ami-de-liege-lyrics',\n",
              " 'https://genius.com/Saez-petit-prince-lyrics',\n",
              " 'https://genius.com/Saez-manu-dans-lcul-lyrics',\n",
              " 'https://genius.com/Saez-clandestins-lyrics',\n",
              " 'https://genius.com/Saez-solution-lyrics',\n",
              " 'https://genius.com/Saez-labattoir-lyrics',\n",
              " 'https://genius.com/Saez-amandine-ii-lyrics',\n",
              " 'https://genius.com/Saez-so-gorgeous-lyrics',\n",
              " 'https://genius.com/Saez-medley-victoires-de-la-musique-2001-lyrics',\n",
              " 'https://genius.com/Saez-yellow-tricycle-lyrics',\n",
              " 'https://genius.com/Saez-que-sont-elles-devenues-lyrics',\n",
              " 'https://genius.com/Saez-no-place-for-us-lyrics',\n",
              " 'https://genius.com/Saez-rottweiler-lyrics',\n",
              " 'https://genius.com/Saez-je-suis-le-christ-lyrics',\n",
              " 'https://genius.com/Saez-soleil-2000-lyrics',\n",
              " 'https://genius.com/Saez-legionnaire-lyrics',\n",
              " 'https://genius.com/Saez-dans-le-bleu-de-labsinthe-lyrics',\n",
              " 'https://genius.com/Saez-le-dernier-disque-lyrics',\n",
              " 'https://genius.com/Saez-les-infideles-lyrics',\n",
              " 'https://genius.com/Saez-je-cherche-encore-lyrics',\n",
              " 'https://genius.com/Saez-be-my-princess-lyrics',\n",
              " 'https://genius.com/Saez-marta-lyrics',\n",
              " 'https://genius.com/Saez-germaine-lyrics',\n",
              " 'https://genius.com/Saez-voici-la-mort-lyrics',\n",
              " 'https://genius.com/Saez-comme-une-ombre-lyrics',\n",
              " 'https://genius.com/Saez-sonnez-tocsin-dans-les-campagnes-lyrics',\n",
              " 'https://genius.com/Saez-des-marees-decume-lyrics',\n",
              " 'https://genius.com/Saez-le-roi-lyrics',\n",
              " 'https://genius.com/Saez-ma-magnifique-lyrics',\n",
              " 'https://genius.com/Saez-cest-la-guerre-lyrics',\n",
              " 'https://genius.com/Saez-embrasons-nous-victoires-de-la-musique-2009-lyrics',\n",
              " 'https://genius.com/Saez-cadillac-noire-lyrics',\n",
              " 'https://genius.com/Saez-my-funny-valentine-lyrics',\n",
              " 'https://genius.com/Saez-des-drogues-lyrics',\n",
              " 'https://genius.com/Saez-nonne-ou-putain-lyrics',\n",
              " 'https://genius.com/Saez-theme-aux-encres-des-amours-lyrics',\n",
              " 'https://genius.com/Saez-ma-populaire-lyrics',\n",
              " 'https://genius.com/Saez-hallelujah-lyrics',\n",
              " 'https://genius.com/Saez-on-sendort-sur-des-braises-lyrics',\n",
              " 'https://genius.com/Saez-jhallucine-lyrics',\n",
              " 'https://genius.com/Saez-au-dela-du-brouillard-lyrics',\n",
              " 'https://genius.com/Saez-theme-de-ladieu-annotated',\n",
              " 'https://genius.com/Saez-la-lutte-lyrics',\n",
              " 'https://genius.com/Saez-la-neige-annotated',\n",
              " 'https://genius.com/Saez-femme-damnee-baudelaire-lyrics',\n",
              " 'https://genius.com/Saez-romeo-et-juliette-lyrics',\n",
              " 'https://genius.com/Saez-camarade-president-lyrics',\n",
              " 'https://genius.com/Saez-ma-vieille-lyrics',\n",
              " 'https://genius.com/Saez-les-condamnes-lyrics',\n",
              " 'https://genius.com/Saez-goraszewska-lyrics',\n",
              " 'https://genius.com/Saez-a-lalhambra-lyrics',\n",
              " 'https://genius.com/Saez-perfect-world-lyrics',\n",
              " 'https://genius.com/Saez-petrushka-lyrics',\n",
              " 'https://genius.com/Saez-light-the-way-lyrics',\n",
              " 'https://genius.com/Saez-menaces-mais-libres-lyrics',\n",
              " 'https://genius.com/Saez-theme-paris-annotated',\n",
              " 'https://genius.com/Saez-anarchitectures-2-lyrics',\n",
              " 'https://genius.com/Saez-pour-y-voir-lyrics',\n",
              " 'https://genius.com/Saez-qui-je-suis-dou-je-viens-lyrics',\n",
              " 'https://genius.com/Saez-massoud-lyrics',\n",
              " 'https://genius.com/Saez-liberte-lyrics',\n",
              " 'https://genius.com/Saez-il-sendort-lyrics',\n",
              " 'https://genius.com/Saez-isnt-it-love-i-lyrics',\n",
              " 'https://genius.com/Saez-rocknroll-star-lyrics',\n",
              " 'https://genius.com/Saez-killing-the-lambs-lyrics',\n",
              " 'https://genius.com/Saez-les-hommes-lyrics',\n",
              " 'https://genius.com/Saez-lenfant-de-france-lyrics',\n",
              " 'https://genius.com/Saez-isnt-it-love-ii-lyrics',\n",
              " 'https://genius.com/Saez-theme-ii-partie-1-lyrics',\n",
              " 'https://genius.com/Saez-a-lovers-prayer-lyrics',\n",
              " 'https://genius.com/Saez-jojo-lyrics',\n",
              " 'https://genius.com/Saez-no-more-lyrics',\n",
              " 'https://genius.com/Saez-mohamed-lyrics',\n",
              " 'https://genius.com/Saez-helicopters-lyrics',\n",
              " 'https://genius.com/Saez-is-it-ok-lyrics',\n",
              " 'https://genius.com/Saez-cold-heart-lyrics',\n",
              " 'https://genius.com/Saez-pill-for-the-ride-lyrics',\n",
              " 'https://genius.com/Saez-la-chute-lyrics',\n",
              " 'https://genius.com/Saez-braindead-lyrics',\n",
              " 'https://genius.com/Saez-la-province-lyrics',\n",
              " 'https://genius.com/Saez-ice-cream-trip-on-an-acid-van-lyrics',\n",
              " 'https://genius.com/Saez-silence-lyrics',\n",
              " 'https://genius.com/Saez-libre-lyrics',\n",
              " 'https://genius.com/Saez-contestataire-lyrics',\n",
              " 'https://genius.com/Saez-a-ton-nom-version-radio-lyrics',\n",
              " 'https://genius.com/Saez-numb-lyrics',\n",
              " 'https://genius.com/Saez-theme-ii-partie-2-lyrics',\n",
              " 'https://genius.com/Saez-white-noise-lyrics',\n",
              " 'https://genius.com/Saez-route-666-lyrics',\n",
              " 'https://genius.com/Saez-sakura-lyrics',\n",
              " 'https://genius.com/Saez-la-liberte-annotated',\n",
              " 'https://genius.com/Saez-mandela-lyrics',\n",
              " 'https://genius.com/Saez-your-leather-jacket-lyrics',\n",
              " 'https://genius.com/Saez-theme-quais-de-seine-lyrics',\n",
              " 'https://genius.com/Saez-la-dame-en-feu-version-longue-lyrics',\n",
              " 'https://genius.com/Saez-wtc-lyrics',\n",
              " 'https://genius.com/Saez-ghost-downtown-lyrics',\n",
              " 'https://genius.com/Saez-connection-annotated',\n",
              " 'https://genius.com/Saez-au-dela-du-brouillard-theme-lyrics',\n",
              " 'https://genius.com/Saez-la-dame-en-feu-lyrics',\n",
              " 'https://genius.com/Saez-light-the-way-interlude-lyrics',\n",
              " 'https://genius.com/Saez-police-lyrics',\n",
              " 'https://genius.com/Saez-le-ciel-en-pleure-encore-lyrics',\n",
              " 'https://genius.com/Saez-intro-lyrics',\n",
              " 'https://genius.com/Saez-theme-i-lyrics',\n",
              " 'https://genius.com/Saez-neige-a-varsovie-annotated',\n",
              " 'https://genius.com/Saez-introduction-annotated',\n",
              " 'https://genius.com/Saez-generation-ratee-lyrics',\n",
              " 'https://genius.com/Saez-lenvol-annotated',\n",
              " 'https://genius.com/Saez-lettre-apolitique-annotated',\n",
              " 'https://genius.com/Saez-theme-i-intro-lyrics',\n",
              " 'https://genius.com/Saez-jours-etranges-pochette-annotated',\n",
              " 'https://genius.com/Saez-voici-la-mort-intro-lyrics',\n",
              " 'https://genius.com/Saez-les-anarchitectures-2-lyrics',\n",
              " 'https://genius.com/Saez-theme-introduction-a-loeuvre-annotated',\n",
              " 'https://genius.com/Saez-a-bout-de-souffle-lyrics']"
            ]
          },
          "metadata": {
            "tags": []
          },
          "execution_count": 11
        }
      ]
    },
    {
      "cell_type": "code",
      "metadata": {
        "id": "XQDEYnzB-VRV"
      },
      "source": [
        "i = 0\n",
        "def extract_lyrics(url):\n",
        "    \n",
        "    r = requests.get(url)\n",
        "    soup = BeautifulSoup(r.content, 'html.parser')\n",
        "    lyrics = soup.find('div', class_=\"jjqBBp\")\n",
        "    \n",
        "    # lyrics = soup.select('.jjqBBp')\n",
        "    \n",
        "    \n",
        "#      des fois la requete ne marche pas. Je ne sais pas pourquoi. Donc ca ne marche pas il faut\n",
        "#      relancer la fonction :\n",
        "\n",
        "    if not lyrics:\n",
        "        print (url, ': no lyrics')\n",
        "        i= i +1\n",
        "        if i <4 :\n",
        "          extract_lyrics(url)\n",
        "        else :\n",
        "          return None\n",
        "    \n",
        "#     methode de beautifulsoup : .stripped_string permet d'enlever tous les trucs qui ne servent à rien\n",
        "\n",
        "    lyrics = lyrics.stripped_strings\n",
        "    print(url[19:], ': done')\n",
        "    parole = []\n",
        "    for sentence in lyrics:\n",
        "            parole.extend(sentence)\n",
        "    return parole"
      ],
      "execution_count": 215,
      "outputs": []
    },
    {
      "cell_type": "code",
      "metadata": {
        "id": "HjE9Cuc--br7",
        "colab": {
          "base_uri": "https://localhost:8080/"
        },
        "outputId": "cdb838d0-0b41-44c2-c052-ffdc4c748666"
      },
      "source": [
        "parole = []\n",
        "for link in links:\n",
        "    try :\n",
        "      parole.extend(extract_lyrics(link))\n",
        "    except:\n",
        "      continue"
      ],
      "execution_count": 217,
      "outputs": [
        {
          "output_type": "stream",
          "text": [
            "Saez-putains-vous-maurez-plus-lyrics : done\n",
            "Saez-lulu-lyrics : done\n",
            "Saez-jeune-et-con-lyrics : done\n",
            "Saez-ptite-pute-lyrics : done\n",
            "Saez-marguerite-lyrics : done\n",
            "Saez-jaccuse-lyrics : done\n",
            "Saez-mon-europeenne-lyrics : done\n",
            "Saez-les-meurtrieres-lyrics : done\n",
            "Saez-notre-dame-melancolie-lyrics : done\n",
            "Saez-bonnie-lyrics : done\n",
            "Saez-pilule-lyrics : done\n",
            "Saez-les-enfants-paradis-lyrics : done\n",
            "Saez-rue-dla-soif-lyrics : done\n",
            "https://genius.com/Saez-matins-de-pluie-lyrics : no lyrics\n",
            "Saez-guantanamo-lyrics : done\n",
            "Saez-la-belle-au-bois-lyrics : done\n",
            "Saez-jveux-quon-baise-sur-ma-tombe-lyrics : done\n",
            "Saez-au-cimetiere-des-amours-lyrics : done\n",
            "Saez-jeunesse-leve-toi-lyrics : done\n",
            "Saez-le-manifeste-culture-contre-culture-lyrics : done\n",
            "Saez-cigarette-lyrics : done\n",
            "Saez-putain-ma-vie-lyrics : done\n",
            "Saez-si-lyrics : done\n",
            "Saez-a-nos-amours-lyrics : done\n",
            "Saez-je-suis-lyrics : done\n",
            "https://genius.com/Saez-marie-lyrics : no lyrics\n",
            "Saez-tous-les-gamins-du-monde-lyrics : done\n",
            "Saez-rois-demain-lyrics : done\n",
            "Saez-peuple-manifestant-lyrics : done\n",
            "Saez-pleure-pas-bebe-lyrics : done\n",
            "Saez-les-amours-mortes-lyrics : done\n",
            "Saez-ma-putain-du-show-biz-lyrics : done\n",
            "Saez-matins-de-neige-lyrics : done\n",
            "Saez-mon-terroriste-lyrics : done\n",
            "Saez-jours-etranges-lyrics : done\n",
            "https://genius.com/Saez-fils-de-france-lyrics : no lyrics\n",
            "Saez-le-bal-des-lycees-lyrics : done\n",
            "https://genius.com/Saez-jveux-men-aller-lyrics : no lyrics\n",
            "Saez-sils-ont-eu-raison-de-nous-lyrics : done\n",
            "Saez-a-tes-cotes-lyrics : done\n",
            "Saez-aux-encres-des-amours-lyrics : done\n",
            "Saez-le-gaz-lyrics : done\n",
            "Saez-en-bords-de-seine-lyrics : done\n",
            "Saez-les-anarchitectures-lyrics : done\n",
            "Saez-les-cours-des-lycees-lyrics : done\n",
            "Saez-regarder-les-filles-pleurer-lyrics : done\n",
            "Saez-humanite-lyrics : done\n",
            "Saez-les-fils-dartaud-lyrics : done\n",
            "Saez-loiseau-liberte-lyrics : done\n",
            "Saez-des-ptits-sous-lyrics : done\n",
            "Saez-pierrot-lyrics : done\n",
            "Saez-je-suis-perdu-lyrics : done\n",
            "Saez-lhumaniste-lyrics : done\n",
            "Saez-que-tout-est-noir-lyrics : done\n",
            "Saez-lula-lyrics : done\n",
            "Saez-toi-tu-dis-que-tes-bien-sans-moi-lyrics : done\n",
            "Saez-miami-lyrics : done\n",
            "Saez-sexe-lyrics : done\n",
            "Saez-fin-des-mondes-lyrics : done\n",
            "Saez-on-meurt-de-toi-lyrics : done\n",
            "Saez-lattentat-lyrics : done\n",
            "Saez-ma-religieuse-lyrics : done\n",
            "Saez-sauver-cette-etoile-lyrics : done\n",
            "Saez-burqa-lyrics : done\n",
            "Saez-a-ton-nom-lyrics : done\n",
            "Saez-les-magnifiques-lyrics : done\n",
            "Saez-messine-lyrics : done\n",
            "Saez-chateau-de-brume-lyrics : done\n",
            "Saez-on-a-tous-une-lula-lyrics : done\n",
            "Saez-les-enfants-lune-lyrics : done\n",
            "Saez-tango-lyrics : done\n",
            "Saez-les-guerres-des-mondes-lyrics : done\n",
            "Saez-ma-gueule-lyrics : done\n",
            "Saez-betty-lyrics : done\n",
            "Saez-sen-aller-lyrics : done\n",
            "Saez-les-echoues-lyrics : done\n",
            "Saez-autour-de-moi-les-fous-lyrics : done\n",
            "Saez-les-printemps-lyrics : done\n",
            "Saez-use-lyrics : done\n",
            "Saez-faut-soublier-lyrics : done\n",
            "Saez-amour-criminel-lyrics : done\n",
            "Saez-dis-moi-qui-sont-ces-gens-lyrics : done\n",
            "Saez-ceux-qui-sont-en-laisse-lyrics : done\n",
            "Saez-tu-y-crois-lyrics : done\n",
            "Saez-le-cavalier-sans-tete-lyrics : done\n",
            "Saez-en-sangre-lyrics : done\n",
            "Saez-rochechouart-lyrics : done\n",
            "Saez-ma-petite-couturiere-lyrics : done\n",
            "Saez-quand-on-perd-son-amour-lyrics : done\n",
            "Saez-ptit-bout-dparadis-annotated : done\n",
            "Saez-planche-a-roulettes-lyrics : done\n",
            "Saez-mon-pays-je-tecris-lyrics : done\n",
            "Saez-sur-le-quai-lyrics : done\n",
            "Saez-elle-aimait-se-faire-liker-lyrics : done\n",
            "Saez-montee-la-haut-lyrics : done\n",
            "Saez-les-bars-du-port-lyrics : done\n",
            "Saez-marianne-lyrics : done\n",
            "Saez-saint-petersbourg-lyrics : done\n",
            "Saez-la-mort-lyrics : done\n",
            "Saez-chatillon-sur-seine-lyrics : done\n",
            "Saez-on-a-pas-la-thune-lyrics : done\n",
            "Saez-jveux-du-nucleaire-lyrics : done\n",
            "Saez-webcams-de-nos-amours-lyrics : done\n",
            "Saez-kasia-lyrics : done\n",
            "https://genius.com/Saez-premier-mai-lyrics : no lyrics\n",
            "Saez-jenvoie-lyrics : done\n",
            "Saez-aneanti-lyrics : done\n",
            "Saez-la-maria-lyrics : done\n",
            "Saez-crepuscule-lyrics : done\n",
            "Saez-celeste-lyrics : done\n",
            "Saez-into-the-wild-lyrics : done\n",
            "Saez-alice-lyrics : done\n",
            "Saez-bouteille-a-la-mer-lyrics : done\n",
            "Saez-en-travers-les-neons-lyrics : done\n",
            "Saez-marie-ou-marilyn-lyrics : done\n",
            "Saez-tricycle-jaune-lyrics : done\n",
            "Saez-ma-gueule-de-terroriste-lyrics : done\n",
            "Saez-anatoline-lyrics : done\n",
            "Saez-je-suis-un-etranger-lyrics : done\n",
            "Saez-varsovie-lyrics : done\n",
            "Saez-chanson-pour-mon-enterrement-lyrics : done\n",
            "Saez-debbie-lyrics : done\n",
            "Saez-tristesse-annotated : done\n",
            "Saez-theme-melancolie-annotated : done\n",
            "https://genius.com/Saez-ami-de-liege-lyrics : no lyrics\n",
            "Saez-petit-prince-lyrics : done\n",
            "Saez-manu-dans-lcul-lyrics : done\n",
            "Saez-clandestins-lyrics : done\n",
            "Saez-solution-lyrics : done\n",
            "Saez-labattoir-lyrics : done\n",
            "Saez-amandine-ii-lyrics : done\n",
            "Saez-so-gorgeous-lyrics : done\n",
            "Saez-medley-victoires-de-la-musique-2001-lyrics : done\n",
            "Saez-yellow-tricycle-lyrics : done\n",
            "Saez-que-sont-elles-devenues-lyrics : done\n",
            "Saez-no-place-for-us-lyrics : done\n",
            "Saez-rottweiler-lyrics : done\n",
            "Saez-je-suis-le-christ-lyrics : done\n",
            "Saez-soleil-2000-lyrics : done\n",
            "Saez-legionnaire-lyrics : done\n",
            "Saez-dans-le-bleu-de-labsinthe-lyrics : done\n",
            "Saez-le-dernier-disque-lyrics : done\n",
            "Saez-les-infideles-lyrics : done\n",
            "Saez-je-cherche-encore-lyrics : done\n",
            "Saez-be-my-princess-lyrics : done\n",
            "Saez-marta-lyrics : done\n",
            "Saez-germaine-lyrics : done\n",
            "Saez-voici-la-mort-lyrics : done\n",
            "Saez-comme-une-ombre-lyrics : done\n",
            "Saez-sonnez-tocsin-dans-les-campagnes-lyrics : done\n",
            "Saez-des-marees-decume-lyrics : done\n",
            "Saez-le-roi-lyrics : done\n",
            "Saez-ma-magnifique-lyrics : done\n",
            "Saez-cest-la-guerre-lyrics : done\n",
            "Saez-embrasons-nous-victoires-de-la-musique-2009-lyrics : done\n",
            "Saez-cadillac-noire-lyrics : done\n",
            "Saez-my-funny-valentine-lyrics : done\n",
            "Saez-des-drogues-lyrics : done\n",
            "Saez-nonne-ou-putain-lyrics : done\n",
            "Saez-theme-aux-encres-des-amours-lyrics : done\n",
            "Saez-ma-populaire-lyrics : done\n",
            "Saez-hallelujah-lyrics : done\n",
            "Saez-on-sendort-sur-des-braises-lyrics : done\n",
            "Saez-jhallucine-lyrics : done\n",
            "Saez-au-dela-du-brouillard-lyrics : done\n",
            "Saez-theme-de-ladieu-annotated : done\n",
            "Saez-la-lutte-lyrics : done\n",
            "Saez-la-neige-annotated : done\n",
            "Saez-femme-damnee-baudelaire-lyrics : done\n",
            "Saez-romeo-et-juliette-lyrics : done\n",
            "Saez-camarade-president-lyrics : done\n",
            "Saez-ma-vieille-lyrics : done\n",
            "Saez-les-condamnes-lyrics : done\n",
            "Saez-goraszewska-lyrics : done\n",
            "Saez-a-lalhambra-lyrics : done\n",
            "Saez-perfect-world-lyrics : done\n",
            "Saez-petrushka-lyrics : done\n",
            "Saez-light-the-way-lyrics : done\n",
            "Saez-menaces-mais-libres-lyrics : done\n",
            "Saez-theme-paris-annotated : done\n",
            "Saez-anarchitectures-2-lyrics : done\n",
            "Saez-pour-y-voir-lyrics : done\n",
            "Saez-qui-je-suis-dou-je-viens-lyrics : done\n",
            "Saez-massoud-lyrics : done\n",
            "Saez-liberte-lyrics : done\n",
            "Saez-il-sendort-lyrics : done\n",
            "Saez-isnt-it-love-i-lyrics : done\n",
            "Saez-rocknroll-star-lyrics : done\n",
            "Saez-killing-the-lambs-lyrics : done\n",
            "Saez-les-hommes-lyrics : done\n",
            "Saez-lenfant-de-france-lyrics : done\n",
            "Saez-isnt-it-love-ii-lyrics : done\n",
            "Saez-theme-ii-partie-1-lyrics : done\n",
            "Saez-a-lovers-prayer-lyrics : done\n",
            "Saez-jojo-lyrics : done\n",
            "Saez-no-more-lyrics : done\n",
            "Saez-mohamed-lyrics : done\n",
            "Saez-helicopters-lyrics : done\n",
            "Saez-is-it-ok-lyrics : done\n",
            "Saez-cold-heart-lyrics : done\n",
            "Saez-pill-for-the-ride-lyrics : done\n",
            "Saez-la-chute-lyrics : done\n",
            "Saez-braindead-lyrics : done\n",
            "Saez-la-province-lyrics : done\n",
            "Saez-ice-cream-trip-on-an-acid-van-lyrics : done\n",
            "Saez-silence-lyrics : done\n",
            "Saez-libre-lyrics : done\n",
            "Saez-contestataire-lyrics : done\n",
            "Saez-a-ton-nom-version-radio-lyrics : done\n",
            "https://genius.com/Saez-numb-lyrics : no lyrics\n",
            "Saez-theme-ii-partie-2-lyrics : done\n",
            "Saez-white-noise-lyrics : done\n",
            "Saez-route-666-lyrics : done\n",
            "Saez-sakura-lyrics : done\n",
            "Saez-la-liberte-annotated : done\n",
            "Saez-mandela-lyrics : done\n",
            "Saez-your-leather-jacket-lyrics : done\n",
            "https://genius.com/Saez-theme-quais-de-seine-lyrics : no lyrics\n",
            "Saez-la-dame-en-feu-version-longue-lyrics : done\n",
            "Saez-wtc-lyrics : done\n",
            "Saez-ghost-downtown-lyrics : done\n",
            "Saez-connection-annotated : done\n",
            "Saez-au-dela-du-brouillard-theme-lyrics : done\n",
            "Saez-la-dame-en-feu-lyrics : done\n",
            "Saez-light-the-way-interlude-lyrics : done\n",
            "Saez-police-lyrics : done\n",
            "Saez-le-ciel-en-pleure-encore-lyrics : done\n",
            "Saez-intro-lyrics : done\n",
            "Saez-theme-i-lyrics : done\n",
            "Saez-neige-a-varsovie-annotated : done\n",
            "Saez-introduction-annotated : done\n",
            "Saez-generation-ratee-lyrics : done\n",
            "Saez-lenvol-annotated : done\n",
            "Saez-lettre-apolitique-annotated : done\n",
            "Saez-theme-i-intro-lyrics : done\n",
            "Saez-jours-etranges-pochette-annotated : done\n",
            "Saez-voici-la-mort-intro-lyrics : done\n",
            "Saez-les-anarchitectures-2-lyrics : done\n",
            "Saez-theme-introduction-a-loeuvre-annotated : done\n",
            "Saez-a-bout-de-souffle-lyrics : done\n"
          ],
          "name": "stdout"
        }
      ]
    },
    {
      "cell_type": "code",
      "metadata": {
        "id": "aICSUEmPw9et"
      },
      "source": [
        ""
      ],
      "execution_count": 214,
      "outputs": []
    },
    {
      "cell_type": "code",
      "metadata": {
        "id": "dGKOlJoFNGnd"
      },
      "source": [
        "'''On sauvegarde les paroles'''\n",
        "with open ('paroles.pckl', 'wb') as f:\n",
        "    pickle.dump(parole, f)\n",
        "\n",
        "\n",
        "# On charge les paroles\n",
        "# f = open('links.pckl', 'rb')\n",
        "# links = pickle.load(f)\n",
        "# f.close()"
      ],
      "execution_count": 218,
      "outputs": []
    },
    {
      "cell_type": "code",
      "metadata": {
        "id": "pqD11mulwQ2g"
      },
      "source": [
        ""
      ],
      "execution_count": 199,
      "outputs": []
    },
    {
      "cell_type": "code",
      "metadata": {
        "id": "b_q5b2WUSuz9"
      },
      "source": [
        "# # On enleve le mot couplet\n",
        "# paroles = []\n",
        "# for text in parole:\n",
        "#   for mot in text:\n",
        "#     mot = mot.lower()\n",
        "#   if \"couplet\" not in text:\n",
        "#     paroles.extend(text)\n"
      ],
      "execution_count": null,
      "outputs": []
    },
    {
      "cell_type": "code",
      "metadata": {
        "id": "SuE7wQEJT54K"
      },
      "source": [
        "# # On transforme les paroles en une suite de lettres\n",
        "# lettres =[]\n",
        "# for mot in paroles:\n",
        "#   for lettre in mot:\n",
        "#     lettres.extend(lettre)\n"
      ],
      "execution_count": null,
      "outputs": []
    },
    {
      "cell_type": "code",
      "metadata": {
        "colab": {
          "base_uri": "https://localhost:8080/"
        },
        "id": "hNovp40ltNlm",
        "outputId": "af5a2412-fcd2-4e64-c973-7c4cf2df0496"
      },
      "source": [
        "parole[:3]"
      ],
      "execution_count": 219,
      "outputs": [
        {
          "output_type": "execute_result",
          "data": {
            "text/plain": [
              "['I', 'n', 't']"
            ]
          },
          "metadata": {
            "tags": []
          },
          "execution_count": 219
        }
      ]
    },
    {
      "cell_type": "code",
      "metadata": {
        "colab": {
          "base_uri": "https://localhost:8080/"
        },
        "id": "hMw0pUMDUGhI",
        "outputId": "bd08612d-08e8-418a-9174-8403c3f48c56"
      },
      "source": [
        "# Voyons quels caracteres sont utilises\n",
        "vocab = sorted(set(parole))\n",
        "pprint.pprint(vocab, compact=True)\n",
        "len(vocab)"
      ],
      "execution_count": 221,
      "outputs": [
        {
          "output_type": "stream",
          "text": [
            "[' ', '!', '\"', '#', '%', \"'\", '(', ')', ',', '-', '.', '0', '1', '2', '3', '4',\n",
            " '5', '6', '8', '9', ':', ';', '?', 'A', 'B', 'C', 'D', 'E', 'F', 'G', 'H', 'I',\n",
            " 'J', 'K', 'L', 'M', 'N', 'O', 'P', 'Q', 'R', 'S', 'T', 'U', 'V', 'W', 'Y', 'Z',\n",
            " '[', ']', 'a', 'b', 'c', 'd', 'e', 'f', 'g', 'h', 'i', 'j', 'k', 'l', 'm', 'n',\n",
            " 'o', 'p', 'q', 'r', 's', 't', 'u', 'v', 'w', 'x', 'y', 'z', '\\xa0', '«', '´',\n",
            " '»', 'À', 'Ç', 'É', 'Ê', 'Ô', 'à', 'á', 'â', 'ç', 'è', 'é', 'ê', 'ë', 'í', 'î',\n",
            " 'ï', 'ó', 'ô', 'ù', 'û', 'œ', 'е', '\\u2005', '’', '…', '\\u205f']\n"
          ],
          "name": "stdout"
        },
        {
          "output_type": "execute_result",
          "data": {
            "text/plain": [
              "106"
            ]
          },
          "metadata": {
            "tags": []
          },
          "execution_count": 221
        }
      ]
    },
    {
      "cell_type": "code",
      "metadata": {
        "id": "CyG3OHLPUGzE"
      },
      "source": [
        "# Certains caracteres ne vont pas aider pour les paroles, on les supprimer\n",
        "caractere_a_supprimer = ['\\u2005','\\u205f', '!', '\"', '#', '%', '(', ')', ',', '-', '.', '0', '1', '2', '3', '4',\n",
        " '5', '6', '8', '9', ':', ';', '?','[', ']', '\\xa0']\n",
        "\n",
        "for i in parole:\n",
        "   if i in caractere_a_supprimer:\n",
        "     parole.remove(i)"
      ],
      "execution_count": 222,
      "outputs": []
    },
    {
      "cell_type": "code",
      "metadata": {
        "colab": {
          "base_uri": "https://localhost:8080/"
        },
        "id": "0elQcYpoWDOl",
        "outputId": "46c49340-3b85-4a5d-cc14-80d00715881d"
      },
      "source": [
        "vocab = sorted(set(lettres))\n",
        "pprint.pprint(vocab, compact=True)\n",
        "len(vocab)"
      ],
      "execution_count": 223,
      "outputs": [
        {
          "output_type": "stream",
          "text": [
            "[' ', \"'\", 'A', 'B', 'C', 'D', 'E', 'F', 'G', 'H', 'I', 'J', 'K', 'L', 'M', 'N',\n",
            " 'O', 'P', 'Q', 'R', 'S', 'T', 'U', 'V', 'W', 'Y', 'Z', 'a', 'b', 'c', 'd', 'e',\n",
            " 'f', 'g', 'h', 'i', 'j', 'k', 'l', 'm', 'n', 'o', 'p', 'q', 'r', 's', 't', 'u',\n",
            " 'v', 'w', 'x', 'y', 'z', '«', '´', '»', 'À', 'Ç', 'É', 'Ê', 'Ô', 'à', 'á', 'â',\n",
            " 'ç', 'è', 'é', 'ê', 'ë', 'í', 'î', 'ï', 'ó', 'ô', 'ù', 'û', 'œ', 'е', '’',\n",
            " '…']\n"
          ],
          "name": "stdout"
        },
        {
          "output_type": "execute_result",
          "data": {
            "text/plain": [
              "80"
            ]
          },
          "metadata": {
            "tags": []
          },
          "execution_count": 223
        }
      ]
    },
    {
      "cell_type": "markdown",
      "metadata": {
        "id": "_phRaAGWSTrS"
      },
      "source": [
        "# Nouvelle section"
      ]
    },
    {
      "cell_type": "code",
      "metadata": {
        "id": "_k2JHGy2CqpE"
      },
      "source": [
        "# on attribue a chaque lettre un chiffre et on encode toutes les lettres\n",
        "char_to_ind = {u:i for i, u in enumerate(vocab)}"
      ],
      "execution_count": 224,
      "outputs": []
    },
    {
      "cell_type": "code",
      "metadata": {
        "id": "H04iHffLs-A5"
      },
      "source": [
        "ind_to_char = np.array(vocab)"
      ],
      "execution_count": 226,
      "outputs": []
    },
    {
      "cell_type": "code",
      "metadata": {
        "id": "qu89chbws_Fw"
      },
      "source": [
        "encoded_text = np.array([char_to_ind[c] for c in lettres])"
      ],
      "execution_count": 227,
      "outputs": []
    },
    {
      "cell_type": "code",
      "metadata": {
        "id": "x2icnUdnyQ_7"
      },
      "source": [
        "seq_len = 120"
      ],
      "execution_count": 228,
      "outputs": []
    },
    {
      "cell_type": "code",
      "metadata": {
        "id": "_WG9lx5iyUyV"
      },
      "source": [
        "total_num_seq = len(text)//(seq_len+1)"
      ],
      "execution_count": 229,
      "outputs": []
    },
    {
      "cell_type": "code",
      "metadata": {
        "id": "l5AXKru5MovM",
        "colab": {
          "base_uri": "https://localhost:8080/"
        },
        "outputId": "0b7ca94f-d05d-4480-9e23-a6eb510086fa"
      },
      "source": [
        "# Création des séquences d'entraînement\n",
        "char_dataset = tf.data.Dataset.from_tensor_slices(encoded_text)\n",
        "\n",
        "for i in char_dataset.take(500):\n",
        "     print(ind_to_char[i.numpy()])"
      ],
      "execution_count": 230,
      "outputs": [
        {
          "output_type": "stream",
          "text": [
            "I\n",
            "n\n",
            "t\n",
            "é\n",
            "r\n",
            "e\n",
            "s\n",
            "s\n",
            "é\n",
            "e\n",
            " \n",
            "p\n",
            "a\n",
            "r\n",
            " \n",
            "l\n",
            "'\n",
            "e\n",
            "x\n",
            "p\n",
            "l\n",
            "i\n",
            "c\n",
            "a\n",
            "t\n",
            "i\n",
            "o\n",
            "n\n",
            " \n",
            "d\n",
            "e\n",
            "s\n",
            " \n",
            "p\n",
            "a\n",
            "r\n",
            "o\n",
            "l\n",
            "e\n",
            "s\n",
            " \n",
            "d\n",
            "e\n",
            " \n",
            "c\n",
            "e\n",
            "t\n",
            "t\n",
            "e\n",
            " \n",
            "c\n",
            "h\n",
            "a\n",
            "n\n",
            "s\n",
            "o\n",
            "n\n",
            " \n",
            "o\n",
            "u\n",
            " \n",
            "d\n",
            "'\n",
            "a\n",
            "u\n",
            "t\n",
            "r\n",
            "e\n",
            "s\n",
            " \n",
            " \n",
            "V\n",
            "e\n",
            "n\n",
            "e\n",
            "z\n",
            " \n",
            "f\n",
            "a\n",
            "i\n",
            "r\n",
            "e\n",
            " \n",
            "l\n",
            "'\n",
            "a\n",
            "n\n",
            "a\n",
            "l\n",
            "y\n",
            "s\n",
            "e\n",
            " \n",
            "d\n",
            "e\n",
            "s\n",
            " \n",
            "t\n",
            "e\n",
            "x\n",
            "t\n",
            "e\n",
            "s\n",
            " \n",
            "a\n",
            "v\n",
            "e\n",
            "c\n",
            " \n",
            "n\n",
            "o\n",
            "u\n",
            "s\n",
            " \n",
            "A\n",
            "m\n",
            "i\n",
            " \n",
            "p\n",
            "r\n",
            "e\n",
            "n\n",
            "d\n",
            " \n",
            "m\n",
            "a\n",
            " \n",
            "l\n",
            "a\n",
            "n\n",
            "t\n",
            "e\n",
            "r\n",
            "n\n",
            "e\n",
            " \n",
            "c\n",
            "a\n",
            "r\n",
            " \n",
            "j\n",
            "’\n",
            "a\n",
            "i\n",
            " \n",
            "p\n",
            "e\n",
            "r\n",
            "d\n",
            "u\n",
            " \n",
            "m\n",
            "a\n",
            " \n",
            "f\n",
            "l\n",
            "a\n",
            "m\n",
            "m\n",
            "e\n",
            "M\n",
            "o\n",
            "n\n",
            " \n",
            "a\n",
            "m\n",
            "o\n",
            "u\n",
            "r\n",
            " \n",
            "e\n",
            "s\n",
            "t\n",
            " \n",
            "p\n",
            "a\n",
            "r\n",
            "t\n",
            "i\n",
            "E\n",
            "l\n",
            "l\n",
            "e\n",
            " \n",
            "a\n",
            " \n",
            "j\n",
            "e\n",
            "t\n",
            "é\n",
            " \n",
            "m\n",
            "o\n",
            "n\n",
            " \n",
            "â\n",
            "m\n",
            "e\n",
            " \n",
            "à\n",
            " \n",
            "b\n",
            "o\n",
            "u\n",
            "f\n",
            "f\n",
            "e\n",
            "r\n",
            " \n",
            "a\n",
            "u\n",
            " \n",
            "n\n",
            "é\n",
            "a\n",
            "n\n",
            "t\n",
            " \n",
            "m\n",
            "e\n",
            " \n",
            "l\n",
            "a\n",
            "i\n",
            "s\n",
            "s\n",
            "a\n",
            "n\n",
            "t\n",
            " \n",
            "l\n",
            "e\n",
            " \n",
            "c\n",
            "œ\n",
            "u\n",
            "r\n",
            " \n",
            "v\n",
            "i\n",
            "d\n",
            "e\n",
            "E\n",
            "l\n",
            "l\n",
            "e\n",
            " \n",
            "a\n",
            " \n",
            "f\n",
            "a\n",
            "i\n",
            "t\n",
            " \n",
            "d\n",
            "e\n",
            "s\n",
            " \n",
            "f\n",
            "e\n",
            "r\n",
            "t\n",
            "i\n",
            "l\n",
            "e\n",
            "s\n",
            " \n",
            "d\n",
            "e\n",
            "s\n",
            " \n",
            "a\n",
            "v\n",
            "e\n",
            "r\n",
            "s\n",
            "e\n",
            "s\n",
            "L\n",
            "’\n",
            "a\n",
            "r\n",
            "i\n",
            "d\n",
            "e\n",
            "E\n",
            "t\n",
            " \n",
            "l\n",
            "’\n",
            "h\n",
            "o\n",
            "r\n",
            "r\n",
            "e\n",
            "u\n",
            "r\n",
            " \n",
            "d\n",
            "u\n",
            " \n",
            "m\n",
            "o\n",
            "n\n",
            "d\n",
            "e\n",
            " \n",
            "n\n",
            "’\n",
            "e\n",
            "s\n",
            "t\n",
            " \n",
            "r\n",
            "i\n",
            "e\n",
            "n\n",
            " \n",
            "c\n",
            "o\n",
            "m\n",
            "p\n",
            "a\n",
            "r\n",
            "a\n",
            "i\n",
            "s\n",
            "o\n",
            "n\n",
            "A\n",
            " \n",
            "c\n",
            "e\n",
            " \n",
            "q\n",
            "u\n",
            "e\n",
            " \n",
            "l\n",
            "’\n",
            "a\n",
            "m\n",
            "o\n",
            "u\n",
            "r\n",
            " \n",
            "f\n",
            "a\n",
            "i\n",
            "t\n",
            " \n",
            "à\n",
            " \n",
            "c\n",
            "e\n",
            "u\n",
            "x\n",
            " \n",
            "q\n",
            "u\n",
            "i\n",
            " \n",
            "d\n",
            "a\n",
            "n\n",
            "s\n",
            " \n",
            "l\n",
            "’\n",
            "u\n",
            "n\n",
            "i\n",
            "o\n",
            "n\n",
            "P\n",
            "e\n",
            "n\n",
            "s\n",
            "e\n",
            "n\n",
            "t\n",
            " \n",
            "o\n",
            "u\n",
            "b\n",
            "l\n",
            "i\n",
            "e\n",
            "r\n",
            " \n",
            "u\n",
            "n\n",
            " \n",
            "p\n",
            "e\n",
            "u\n",
            " \n",
            "q\n",
            "u\n",
            "’\n",
            "o\n",
            "n\n",
            " \n",
            "e\n",
            "s\n",
            "t\n",
            " \n",
            "t\n",
            "r\n",
            "i\n",
            "s\n",
            "t\n",
            "e\n",
            " \n",
            "i\n",
            "c\n",
            "i\n",
            "b\n",
            "a\n",
            "s\n",
            "E\n",
            "t\n",
            " \n",
            "q\n",
            "u\n",
            "’\n",
            "i\n",
            "c\n",
            "i\n",
            " \n",
            "s\n",
            "o\n",
            "l\n",
            "i\n",
            "t\n",
            "u\n",
            "d\n",
            "e\n",
            "E\n",
            "s\n",
            "t\n",
            " \n",
            "l\n",
            "e\n",
            " \n",
            "d\n",
            "e\n",
            "r\n",
            "n\n",
            "i\n",
            "e\n",
            "r\n",
            " \n",
            "r\n",
            "e\n",
            "p\n",
            "a\n",
            "s\n",
            "E\n",
            "l\n",
            "l\n",
            "e\n",
            " \n",
            "a\n",
            "v\n",
            "a\n",
            "i\n",
            "t\n",
            " \n",
            "l\n",
            "e\n",
            "s\n",
            " \n",
            "y\n",
            "e\n",
            "u\n",
            "x\n",
            " \n",
            "n\n",
            "o\n",
            "i\n",
            "r\n",
            "s\n",
            " \n",
            "d\n",
            "e\n",
            "s\n",
            "q\n",
            "u\n",
            "e\n",
            "l\n",
            "s\n",
            " \n",
            "o\n",
            "n\n",
            " \n",
            "v\n",
            "o\n",
            "i\n",
            "t\n"
          ],
          "name": "stdout"
        }
      ]
    },
    {
      "cell_type": "code",
      "metadata": {
        "id": "wF14u_TtMpOY"
      },
      "source": [
        "sequences = char_dataset.batch(seq_len+1, drop_remainder=True)"
      ],
      "execution_count": 231,
      "outputs": []
    },
    {
      "cell_type": "code",
      "metadata": {
        "id": "yg7zTHZ9Mpg0"
      },
      "source": [
        "def create_seq_targets(seq):\n",
        "    input_txt = seq[:-1]\n",
        "    target_txt = seq[1:]\n",
        "    return input_txt, target_txt"
      ],
      "execution_count": 232,
      "outputs": []
    },
    {
      "cell_type": "code",
      "metadata": {
        "id": "6xS2mW-OOzxH"
      },
      "source": [
        "dataset = sequences.map(create_seq_targets)"
      ],
      "execution_count": 233,
      "outputs": []
    },
    {
      "cell_type": "code",
      "metadata": {
        "id": "Z4RpSNhZO4jm",
        "colab": {
          "base_uri": "https://localhost:8080/"
        },
        "outputId": "46fb3ae0-d273-44b4-e63f-45e434942cc9"
      },
      "source": [
        "for input_txt, target_txt in  dataset.take(1):\n",
        "    print(input_txt.numpy())\n",
        "    print(''.join(ind_to_char[input_txt.numpy()]))\n",
        "    print('\\n')\n",
        "    print(target_txt.numpy())\n",
        "    # Il y a un espace supplémentaire !\n",
        "    print(''.join(ind_to_char[target_txt.numpy()]))"
      ],
      "execution_count": 234,
      "outputs": [
        {
          "output_type": "stream",
          "text": [
            "[10 40 46 66 44 31 45 45 66 31  0 42 27 44  0 38  1 31 50 42 38 35 29 27\n",
            " 46 35 41 40  0 30 31 45  0 42 27 44 41 38 31 45  0 30 31  0 29 31 46 46\n",
            " 31  0 29 34 27 40 45 41 40  0 41 47  0 30  1 27 47 46 44 31 45  0  0 23\n",
            " 31 40 31 52  0 32 27 35 44 31  0 38  1 27 40 27 38 51 45 31  0 30 31 45\n",
            "  0 46 31 50 46 31 45  0 27 48 31 29  0 40 41 47 45  0  2 39 35  0 42 44]\n",
            "Intéressée par l'explication des paroles de cette chanson ou d'autres  Venez faire l'analyse des textes avec nous Ami pr\n",
            "\n",
            "\n",
            "[40 46 66 44 31 45 45 66 31  0 42 27 44  0 38  1 31 50 42 38 35 29 27 46\n",
            " 35 41 40  0 30 31 45  0 42 27 44 41 38 31 45  0 30 31  0 29 31 46 46 31\n",
            "  0 29 34 27 40 45 41 40  0 41 47  0 30  1 27 47 46 44 31 45  0  0 23 31\n",
            " 40 31 52  0 32 27 35 44 31  0 38  1 27 40 27 38 51 45 31  0 30 31 45  0\n",
            " 46 31 50 46 31 45  0 27 48 31 29  0 40 41 47 45  0  2 39 35  0 42 44 31]\n",
            "ntéressée par l'explication des paroles de cette chanson ou d'autres  Venez faire l'analyse des textes avec nous Ami pre\n"
          ],
          "name": "stdout"
        }
      ]
    },
    {
      "cell_type": "code",
      "metadata": {
        "id": "gINvx3pVbc20"
      },
      "source": [
        "# Taille de batch\n",
        "batch_size = 128\n",
        "\n",
        "# Taille de la mémoire tampon pour mélanger l'ensemble des données \n",
        "# afin de ne pas tenter de mélanger toute la séquence en mémoire. \n",
        "# Au lieu de cela, il maintient une mémoire tampon dans laquelle \n",
        "# il mélange les éléments\n",
        "buffer_size = 10000\n",
        "\n",
        "dataset = dataset.shuffle(buffer_size).batch(batch_size, drop_remainder=True)"
      ],
      "execution_count": 235,
      "outputs": []
    },
    {
      "cell_type": "code",
      "metadata": {
        "id": "t00AZvJzaYRH",
        "colab": {
          "base_uri": "https://localhost:8080/"
        },
        "outputId": "bb5a67f4-414a-45e0-d9a0-f6d015b77350"
      },
      "source": [
        "dataset"
      ],
      "execution_count": 236,
      "outputs": [
        {
          "output_type": "execute_result",
          "data": {
            "text/plain": [
              "<BatchDataset shapes: ((128, 120), (128, 120)), types: (tf.int64, tf.int64)>"
            ]
          },
          "metadata": {
            "tags": []
          },
          "execution_count": 236
        }
      ]
    },
    {
      "cell_type": "code",
      "metadata": {
        "id": "Gx929NUGapeV"
      },
      "source": [
        "# Longueur du vocabulaire en caractères\n",
        "vocab_size = len(vocab)\n",
        "\n",
        "# La dimension embedding\n",
        "embed_dim = 64\n",
        "\n",
        "# Nombre d'unitées RNN\n",
        "rnn_neurons = 1026"
      ],
      "execution_count": 237,
      "outputs": []
    },
    {
      "cell_type": "code",
      "metadata": {
        "id": "eDjZrxJrcFqd"
      },
      "source": [
        ""
      ],
      "execution_count": 144,
      "outputs": []
    },
    {
      "cell_type": "code",
      "metadata": {
        "id": "qCtxF7VVcKAk"
      },
      "source": [
        "from tensorflow.keras.models import Sequential\n",
        "from tensorflow.keras.layers import LSTM,Dense,Embedding,Dropout,GRU\n",
        "from tensorflow.keras.losses import sparse_categorical_crossentropy"
      ],
      "execution_count": 239,
      "outputs": []
    },
    {
      "cell_type": "code",
      "metadata": {
        "id": "jwZzEFy2y5ep"
      },
      "source": [
        "def sparse_cat_loss(y_true,y_pred):\n",
        "  return sparse_categorical_crossentropy(y_true, y_pred, from_logits=True)"
      ],
      "execution_count": 240,
      "outputs": []
    },
    {
      "cell_type": "code",
      "metadata": {
        "id": "fre7jTQAcXRX"
      },
      "source": [
        "def create_model(vocab_size, embed_dim, rnn_neurons, batch_size):\n",
        "    model = Sequential()\n",
        "    model.add(Embedding(vocab_size, embed_dim,batch_input_shape=[batch_size, None]))\n",
        "    model.add(GRU(rnn_neurons,return_sequences=True,stateful=True,recurrent_initializer='glorot_uniform'))\n",
        "    # Couche Finale Dense de Prédiction\n",
        "    model.add(Dense(vocab_size))\n",
        "    model.compile(optimizer='adam', loss=sparse_cat_loss) \n",
        "    return model"
      ],
      "execution_count": 241,
      "outputs": []
    },
    {
      "cell_type": "code",
      "metadata": {
        "id": "azQk2woWcckL"
      },
      "source": [
        "model = create_model(\n",
        "  vocab_size = vocab_size,\n",
        "  embed_dim=embed_dim,\n",
        "  rnn_neurons=rnn_neurons,\n",
        "  batch_size=batch_size)"
      ],
      "execution_count": 242,
      "outputs": []
    },
    {
      "cell_type": "code",
      "metadata": {
        "colab": {
          "base_uri": "https://localhost:8080/"
        },
        "id": "06meWFXpzBJI",
        "outputId": "8b5e7cf7-ff71-413d-b5fb-9daa53d4cbab"
      },
      "source": [
        "model.summary()"
      ],
      "execution_count": 243,
      "outputs": [
        {
          "output_type": "stream",
          "text": [
            "Model: \"sequential_20\"\n",
            "_________________________________________________________________\n",
            "Layer (type)                 Output Shape              Param #   \n",
            "=================================================================\n",
            "embedding_20 (Embedding)     (128, None, 64)           5120      \n",
            "_________________________________________________________________\n",
            "gru_20 (GRU)                 (128, None, 1026)         3361176   \n",
            "_________________________________________________________________\n",
            "dense_20 (Dense)             (128, None, 80)           82160     \n",
            "=================================================================\n",
            "Total params: 3,448,456\n",
            "Trainable params: 3,448,456\n",
            "Non-trainable params: 0\n",
            "_________________________________________________________________\n"
          ],
          "name": "stdout"
        }
      ]
    },
    {
      "cell_type": "code",
      "metadata": {
        "id": "qLkkr7M3ce3K"
      },
      "source": [
        "epochs = 30"
      ],
      "execution_count": 244,
      "outputs": []
    },
    {
      "cell_type": "code",
      "metadata": {
        "id": "sj1IpJwdctiB"
      },
      "source": [
        "from tensorflow.keras.callbacks import EarlyStopping, ReduceLROnPlateau\n",
        "\n",
        "EarlyStopping = EarlyStopping(monitor = \"loss\",\n",
        "                              patience = 2, mode = 'min',\n",
        "                              restore_best_weights = True)\n",
        "\n",
        "ReduceLROnPlateau = ReduceLROnPlateau(monitor = 'loss',\n",
        "                                      patience = 1,\n",
        "                                      mode = 'min')\n"
      ],
      "execution_count": 245,
      "outputs": []
    },
    {
      "cell_type": "code",
      "metadata": {
        "id": "geaZ1nvdzHGf"
      },
      "source": [
        ""
      ],
      "execution_count": null,
      "outputs": []
    },
    {
      "cell_type": "code",
      "metadata": {
        "colab": {
          "base_uri": "https://localhost:8080/"
        },
        "id": "9yeLktZrxg1g",
        "outputId": "eb75ff49-0dbb-4db1-e746-44052be15705"
      },
      "source": [
        "model.fit(dataset,epochs=epochs, callbacks=[EarlyStopping, ReduceLROnPlateau])"
      ],
      "execution_count": 246,
      "outputs": [
        {
          "output_type": "stream",
          "text": [
            "Epoch 1/30\n",
            "15/15 [==============================] - 129s 8s/step - loss: 4.0772\n",
            "Epoch 2/30\n",
            "15/15 [==============================] - 130s 9s/step - loss: 3.1809\n",
            "Epoch 3/30\n",
            "15/15 [==============================] - 127s 8s/step - loss: 3.0305\n",
            "Epoch 4/30\n",
            "15/15 [==============================] - 128s 8s/step - loss: 2.9369\n",
            "Epoch 5/30\n",
            "15/15 [==============================] - 126s 8s/step - loss: 2.7867\n",
            "Epoch 6/30\n",
            "15/15 [==============================] - 128s 9s/step - loss: 2.6296\n",
            "Epoch 7/30\n",
            "15/15 [==============================] - 128s 8s/step - loss: 2.5184\n",
            "Epoch 8/30\n",
            "15/15 [==============================] - 126s 8s/step - loss: 2.4523\n",
            "Epoch 9/30\n",
            "15/15 [==============================] - 127s 8s/step - loss: 2.4061\n",
            "Epoch 10/30\n",
            "15/15 [==============================] - 118s 8s/step - loss: 2.3704\n",
            "Epoch 11/30\n",
            "15/15 [==============================] - 118s 8s/step - loss: 2.3388\n",
            "Epoch 12/30\n",
            "15/15 [==============================] - 120s 8s/step - loss: 2.3119\n",
            "Epoch 13/30\n",
            "15/15 [==============================] - 118s 8s/step - loss: 2.2859\n",
            "Epoch 14/30\n",
            "15/15 [==============================] - 120s 8s/step - loss: 2.2595\n",
            "Epoch 15/30\n",
            "15/15 [==============================] - 119s 8s/step - loss: 2.2317\n",
            "Epoch 16/30\n",
            "15/15 [==============================] - 119s 8s/step - loss: 2.2045\n",
            "Epoch 17/30\n",
            "15/15 [==============================] - 120s 8s/step - loss: 2.1734\n",
            "Epoch 18/30\n",
            "15/15 [==============================] - 121s 8s/step - loss: 2.1396\n",
            "Epoch 19/30\n",
            "15/15 [==============================] - 120s 8s/step - loss: 2.1071\n",
            "Epoch 20/30\n",
            "15/15 [==============================] - 120s 8s/step - loss: 2.0747\n",
            "Epoch 21/30\n",
            "15/15 [==============================] - 119s 8s/step - loss: 2.0372\n",
            "Epoch 22/30\n",
            "15/15 [==============================] - 120s 8s/step - loss: 1.9991\n",
            "Epoch 23/30\n",
            "15/15 [==============================] - 120s 8s/step - loss: 1.9636\n",
            "Epoch 24/30\n",
            "15/15 [==============================] - 119s 8s/step - loss: 1.9216\n",
            "Epoch 25/30\n",
            "15/15 [==============================] - 120s 8s/step - loss: 1.8833\n",
            "Epoch 26/30\n",
            "15/15 [==============================] - 117s 8s/step - loss: 1.8387\n",
            "Epoch 27/30\n",
            "15/15 [==============================] - 115s 8s/step - loss: 1.8029\n",
            "Epoch 28/30\n",
            "15/15 [==============================] - 117s 8s/step - loss: 1.7583\n",
            "Epoch 29/30\n",
            "15/15 [==============================] - 116s 8s/step - loss: 1.7157\n",
            "Epoch 30/30\n",
            "15/15 [==============================] - 116s 8s/step - loss: 1.6792\n"
          ],
          "name": "stdout"
        },
        {
          "output_type": "execute_result",
          "data": {
            "text/plain": [
              "<tensorflow.python.keras.callbacks.History at 0x7ff2385f4250>"
            ]
          },
          "metadata": {
            "tags": []
          },
          "execution_count": 246
        }
      ]
    },
    {
      "cell_type": "code",
      "metadata": {
        "id": "0vVxtE9XcwB5"
      },
      "source": [
        "model.save('Saez_gen_IA3.h5')"
      ],
      "execution_count": 177,
      "outputs": []
    },
    {
      "cell_type": "code",
      "metadata": {
        "id": "F__Ln59t36tV"
      },
      "source": [
        ""
      ],
      "execution_count": 177,
      "outputs": []
    },
    {
      "cell_type": "code",
      "metadata": {
        "id": "kuu8gec9c2bb"
      },
      "source": [
        "from tensorflow.keras.models import load_model\n",
        "model = create_model(vocab_size, embed_dim, rnn_neurons, batch_size=1)\n",
        "\n",
        "model.load_weights('Saez_gen_IA3.h5')\n",
        "\n",
        "model.build(tf.TensorShape([1, None]))"
      ],
      "execution_count": 178,
      "outputs": []
    },
    {
      "cell_type": "code",
      "metadata": {
        "id": "4a2Cnw6vc88n"
      },
      "source": [
        "def generate_text(model, start_seed,gen_size=100,temp=2.0):\n",
        "  '''\n",
        "  model: Modèle Entraîné pour générer du texte\n",
        "  start_seed: Seed initial du texte sous forme de chaîne de caractères\n",
        "  gen_size: Nombre de caractères à générer\n",
        "\n",
        "  L'idée de base de cette fonction est de prendre un texte de départ, de le formater de manière à\n",
        "  qu'il soit dans le bon format pour notre réseau, puis bouclez la séquence à mesure que\n",
        "  nous continuons d'ajouter nos propres caractères prédits. Similaire à notre notre travail au sein \n",
        "  des problèmes de séries temporelles avec le RNN.\n",
        "  '''\n",
        "\n",
        "  # Nombre de caractères à générer\n",
        "  num_generate = gen_size\n",
        "\n",
        "  # Vectorisation du texte du seed de départ\n",
        "  input_eval = [to_number[s] for s in start_seed]\n",
        "\n",
        "  # Étendre les dimensions pour correspondre à la forme du format de batch\n",
        "  input_eval = tf.expand_dims(input_eval, 0)\n",
        "\n",
        "  # Liste vide pour contenir le texte généré\n",
        "  text_generated = []\n",
        "\n",
        "  # La température a un effet aléatoire sur le texte qui en résulte\n",
        "  # Le terme est dérivé de l'entropie/thermodynamique.\n",
        "  # La température est utilisée pour affecter la probabilité des caractères suivants.\n",
        "  # Probabilité plus élevée == moins surprenante/ plus attendue\n",
        "  # Une température plus basse == plus surprenante / moins attendue\n",
        " \n",
        "  temperature = temp\n",
        "\n",
        "  # Ici batch size == 1\n",
        "  model.reset_states()\n",
        "\n",
        "  for i in range(num_generate):\n",
        "\n",
        "      # Générer des prédictions\n",
        "      predictions = model(input_eval)\n",
        "\n",
        "      # Supprimer la dimension de la forme du batch\n",
        "      predictions = tf.squeeze(predictions, 0)\n",
        "\n",
        "      # Utilisez une distribution catégorielle pour sélectionner le caractère suivant\n",
        "      predictions = predictions / temperature\n",
        "      predicted_id = tf.random.categorical(predictions, num_samples=1)[-1,0].numpy()\n",
        "\n",
        "      # Passez le caractère prédit pour la prochaine entrée\n",
        "      input_eval = tf.expand_dims([predicted_id], 0)\n",
        "\n",
        "      # Transformer à nouveau en lettre de caractère\n",
        "      text_generated.append(to_char[predicted_id])\n",
        "\n",
        "  return (start_seed + ''.join(text_generated))"
      ],
      "execution_count": 181,
      "outputs": []
    },
    {
      "cell_type": "code",
      "metadata": {
        "id": "TEgCGe6-dGZj"
      },
      "source": [
        ""
      ],
      "execution_count": null,
      "outputs": []
    },
    {
      "cell_type": "code",
      "metadata": {
        "id": "VgSD5vXGdtrc"
      },
      "source": [
        ""
      ],
      "execution_count": null,
      "outputs": []
    }
  ]
}